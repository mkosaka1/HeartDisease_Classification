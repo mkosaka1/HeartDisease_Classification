{
 "cells": [
  {
   "cell_type": "code",
   "execution_count": 58,
   "metadata": {
    "scrolled": true
   },
   "outputs": [],
   "source": [
    "import pandas as pd\n",
    "import matplotlib.pyplot as plt\n",
    "import numpy as np\n",
    "from collections import Counter\n",
    "from sklearn.preprocessing import StandardScaler\n",
    "# data splitting\n",
    "from sklearn.model_selection import train_test_split, cross_val_score, GridSearchCV\n",
    "# data modeling\n",
    "from sklearn.metrics import confusion_matrix,accuracy_score,roc_curve,roc_auc_score,classification_report,f1_score\n",
    "from sklearn.linear_model import LogisticRegression\n",
    "from sklearn.naive_bayes import GaussianNB\n",
    "from xgboost import XGBClassifier\n",
    "from sklearn.ensemble import RandomForestClassifier\n",
    "from sklearn.tree import DecisionTreeClassifier\n",
    "from sklearn.neighbors import KNeighborsClassifier\n",
    "from sklearn.naive_bayes import GaussianNB\n",
    "from sklearn.svm import SVC\n",
    "#ensembling\n",
    "from mlxtend.classifier import StackingCVClassifier\n",
    "import xgboost as xgb\n",
    "import itertools\n",
    "from sklearn.dummy import DummyClassifier\n",
    "from sklearn import metrics\n"
   ]
  },
  {
   "cell_type": "code",
   "execution_count": 59,
   "metadata": {},
   "outputs": [],
   "source": [
    "df=pd.read_csv('Data/cleaned_df.csv',index_col=0)"
   ]
  },
  {
   "cell_type": "code",
   "execution_count": 60,
   "metadata": {},
   "outputs": [],
   "source": [
    "y = df[\"target\"]\n",
    "X = df.drop('target',axis=1)\n",
    "X_train, X_test, y_train, y_test = train_test_split(X, y, test_size=0.20, random_state = 0)\n",
    "scaler = StandardScaler()\n",
    "X_train = scaler.fit_transform(X_train)\n",
    "X_test = scaler.transform(X_test)"
   ]
  },
  {
   "cell_type": "markdown",
   "metadata": {},
   "source": [
    "# Baseline Prediction"
   ]
  },
  {
   "cell_type": "code",
   "execution_count": 61,
   "metadata": {},
   "outputs": [
    {
     "data": {
      "text/plain": [
       "0.5573770491803278"
      ]
     },
     "execution_count": 61,
     "metadata": {},
     "output_type": "execute_result"
    }
   ],
   "source": [
    "dummy_clf = DummyClassifier(strategy=\"stratified\")\n",
    "dummy_clf.fit(X_train, y_train)\n",
    "DummyClassifier(strategy='stratified')\n",
    "dummy_clf.predict(X_test)\n",
    "dummy_clf.score(X_test, y_test)"
   ]
  },
  {
   "cell_type": "markdown",
   "metadata": {},
   "source": [
    "## Logistic Regression"
   ]
  },
  {
   "cell_type": "code",
   "execution_count": 62,
   "metadata": {
    "scrolled": true
   },
   "outputs": [
    {
     "name": "stdout",
     "output_type": "stream",
     "text": [
      "Test Accuracy score:  0.8852459016393442\n",
      "Test F1 score:  0.8985507246376812\n",
      "confusion matrix\n",
      "[[23  4]\n",
      " [ 3 31]]\n",
      "\n",
      "\n",
      "              precision    recall  f1-score   support\n",
      "\n",
      "           0       0.88      0.85      0.87        27\n",
      "           1       0.89      0.91      0.90        34\n",
      "\n",
      "    accuracy                           0.89        61\n",
      "   macro avg       0.89      0.88      0.88        61\n",
      "weighted avg       0.89      0.89      0.88        61\n",
      "\n"
     ]
    }
   ],
   "source": [
    "#INSTANTIATE LOGISTIC REGRESSION\n",
    "logreg = LogisticRegression()\n",
    "logreg.fit(X_train, y_train)\n",
    "y_pred_log = logreg.predict(X_test)\n",
    "lr_acc_score=metrics.accuracy_score(y_test, y_pred_log)\n",
    "lr_f1_score=metrics.f1_score(y_test, y_pred_log)\n",
    "lr_conf_matrix = confusion_matrix(y_test, y_pred_log)\n",
    "# checking accuracy\n",
    "print('Test Accuracy score: ', lr_acc_score)\n",
    "print('Test F1 score: ', lr_f1_score)\n",
    "print(\"confusion matrix\")\n",
    "print(lr_conf_matrix)\n",
    "print(\"\\n\")\n",
    "print(classification_report(y_test,y_pred_log))"
   ]
  },
  {
   "cell_type": "markdown",
   "metadata": {},
   "source": [
    "## KNN"
   ]
  },
  {
   "cell_type": "code",
   "execution_count": 63,
   "metadata": {},
   "outputs": [
    {
     "name": "stdout",
     "output_type": "stream",
     "text": [
      "Test Accuracy score:  0.819672131147541\n",
      "Test F1 score:  0.8405797101449276\n",
      "confusion matrix\n",
      "[[21  6]\n",
      " [ 5 29]]\n",
      "\n",
      "\n",
      "              precision    recall  f1-score   support\n",
      "\n",
      "           0       0.81      0.78      0.79        27\n",
      "           1       0.83      0.85      0.84        34\n",
      "\n",
      "    accuracy                           0.82        61\n",
      "   macro avg       0.82      0.82      0.82        61\n",
      "weighted avg       0.82      0.82      0.82        61\n",
      "\n"
     ]
    }
   ],
   "source": [
    "#INSTANTIATE KNN MODEL\n",
    "knn = KNeighborsClassifier()\n",
    "knn.fit(X_train, y_train)\n",
    "# make class predictions for the testing set\n",
    "y_pred_knn = knn.predict(X_test)\n",
    "knn_acc_score=metrics.accuracy_score(y_test, y_pred_knn)\n",
    "knn_f1_score=metrics.f1_score(y_test, y_pred_knn)\n",
    "knn_conf_matrix = confusion_matrix(y_test, y_pred_knn)\n",
    "# checking accuracy\n",
    "print('Test Accuracy score: ', knn_acc_score)\n",
    "print('Test F1 score: ',knn_f1_score )\n",
    "print(\"confusion matrix\")\n",
    "print(knn_conf_matrix)\n",
    "print(\"\\n\")\n",
    "print(classification_report(y_test,y_pred_knn))"
   ]
  },
  {
   "cell_type": "markdown",
   "metadata": {},
   "source": [
    "## Decision Tree Classifier"
   ]
  },
  {
   "cell_type": "code",
   "execution_count": 64,
   "metadata": {},
   "outputs": [
    {
     "name": "stdout",
     "output_type": "stream",
     "text": [
      "Test Accuracy score:  0.7377049180327869\n",
      "Test F1 score:  0.7647058823529412\n",
      "confusion matrix\n",
      "[[19  8]\n",
      " [ 8 26]]\n",
      "\n",
      "\n",
      "              precision    recall  f1-score   support\n",
      "\n",
      "           0       0.70      0.70      0.70        27\n",
      "           1       0.76      0.76      0.76        34\n",
      "\n",
      "    accuracy                           0.74        61\n",
      "   macro avg       0.73      0.73      0.73        61\n",
      "weighted avg       0.74      0.74      0.74        61\n",
      "\n"
     ]
    }
   ],
   "source": [
    "# INSATNTIATE DECISION TREE MODEL\n",
    "tree = DecisionTreeClassifier()\n",
    "tree.fit(X_train, y_train)\n",
    "y_pred_tree = tree.predict(X_test)\n",
    "tree_acc_score=metrics.accuracy_score(y_test, y_pred_tree)\n",
    "tree_f1_score=metrics.f1_score(y_test, y_pred_tree)\n",
    "tree_conf_matrix=confusion_matrix(y_test,y_pred_tree)\n",
    "# checking accuracy\n",
    "print('Test Accuracy score: ', tree_acc_score)\n",
    "print('Test F1 score: ', tree_f1_score)\n",
    "print(\"confusion matrix\")\n",
    "print(tree_conf_matrix)\n",
    "print(\"\\n\")\n",
    "print(classification_report(y_test,y_pred_tree))"
   ]
  },
  {
   "cell_type": "markdown",
   "metadata": {},
   "source": [
    "## Random Forest"
   ]
  },
  {
   "cell_type": "code",
   "execution_count": 65,
   "metadata": {},
   "outputs": [
    {
     "name": "stdout",
     "output_type": "stream",
     "text": [
      "Test Accuracy score:  0.8360655737704918\n",
      "Test F1 score:  0.8529411764705882\n",
      "confusion matrix\n",
      "[[22  5]\n",
      " [ 5 29]]\n",
      "\n",
      "\n",
      "              precision    recall  f1-score   support\n",
      "\n",
      "           0       0.81      0.81      0.81        27\n",
      "           1       0.85      0.85      0.85        34\n",
      "\n",
      "    accuracy                           0.84        61\n",
      "   macro avg       0.83      0.83      0.83        61\n",
      "weighted avg       0.84      0.84      0.84        61\n",
      "\n"
     ]
    }
   ],
   "source": [
    "#INSTANTIATE RANDOM FOREST MODEL\n",
    "rfc = RandomForestClassifier()\n",
    "rfc.fit(X_train, y_train)\n",
    "y_pred_forest = rfc.predict(X_test)\n",
    "rfc_acc_score=metrics.accuracy_score(y_test, y_pred_forest)\n",
    "rfc_f1_score = metrics.f1_score(y_test, y_pred_forest)\n",
    "rfc_conf_matrix=confusion_matrix(y_test,y_pred_forest)\n",
    "# checking accuracy\n",
    "print('Test Accuracy score: ', rfc_acc_score)\n",
    "print('Test F1 score: ', rfc_f1_score)\n",
    "print(\"confusion matrix\")\n",
    "print(rfc_conf_matrix)\n",
    "print(\"\\n\")\n",
    "print(classification_report(y_test,y_pred_forest))"
   ]
  },
  {
   "cell_type": "markdown",
   "metadata": {},
   "source": [
    "## XGB"
   ]
  },
  {
   "cell_type": "code",
   "execution_count": 66,
   "metadata": {
    "scrolled": false
   },
   "outputs": [
    {
     "name": "stdout",
     "output_type": "stream",
     "text": [
      "Test Accuracy score:  0.7540983606557377\n",
      "Test F1 score:  0.782608695652174\n",
      "confusion matrix\n",
      "[[19  8]\n",
      " [ 7 27]]\n",
      "\n",
      "\n",
      "              precision    recall  f1-score   support\n",
      "\n",
      "           0       0.73      0.70      0.72        27\n",
      "           1       0.77      0.79      0.78        34\n",
      "\n",
      "    accuracy                           0.75        61\n",
      "   macro avg       0.75      0.75      0.75        61\n",
      "weighted avg       0.75      0.75      0.75        61\n",
      "\n"
     ]
    }
   ],
   "source": [
    "# Instantiate the XGBClassifier: xg_cl\n",
    "xg_cl = xgb.XGBClassifier(learning_rate=0.01, n_estimators=10, seed=25)\n",
    "# Fit the classifier to the training set\n",
    "xg_cl.fit(X_train,y_train)\n",
    "# Predict the labels of the test set: preds\n",
    "y_pred_xgb = xg_cl.predict(X_test)\n",
    "xgb_acc_score=metrics.accuracy_score(y_test, y_pred_xgb)\n",
    "xgb_f1_score = metrics.f1_score(y_test, y_pred_xgb)\n",
    "xgb_conf_matrix=confusion_matrix(y_test,y_pred_xgb)\n",
    "# Compute the accuracy: accuracy\n",
    "# checking accuracy\n",
    "print('Test Accuracy score: ',xgb_acc_score)\n",
    "print('Test F1 score: ', xgb_f1_score)\n",
    "print(\"confusion matrix\")\n",
    "print(xgb_conf_matrix)\n",
    "print(\"\\n\")\n",
    "print(classification_report(y_test,y_pred_xgb))"
   ]
  },
  {
   "cell_type": "markdown",
   "metadata": {},
   "source": [
    "## Naive Bayes"
   ]
  },
  {
   "cell_type": "code",
   "execution_count": 67,
   "metadata": {},
   "outputs": [
    {
     "name": "stdout",
     "output_type": "stream",
     "text": [
      "Test Accuracy score:  0.8688524590163934\n",
      "Test F1 score:  0.8888888888888888\n",
      "confusion matrix\n",
      "[[21  6]\n",
      " [ 2 32]]\n",
      "\n",
      "\n",
      "              precision    recall  f1-score   support\n",
      "\n",
      "           0       0.91      0.78      0.84        27\n",
      "           1       0.84      0.94      0.89        34\n",
      "\n",
      "    accuracy                           0.87        61\n",
      "   macro avg       0.88      0.86      0.86        61\n",
      "weighted avg       0.87      0.87      0.87        61\n",
      "\n"
     ]
    }
   ],
   "source": [
    "nb = GaussianNB()\n",
    "nb.fit(X_train,y_train)\n",
    "y_pred_nb = nb.predict(X_test)\n",
    "nb_conf_matrix = confusion_matrix(y_test,y_pred_nb)\n",
    "nb_acc_score = metrics.accuracy_score(y_test, y_pred_nb)\n",
    "nb_f1_score=metrics.f1_score(y_test, y_pred_nb)\n",
    "print('Test Accuracy score: ',nb_acc_score)\n",
    "print('Test F1 score: ', nb_f1_score)\n",
    "print(\"confusion matrix\")\n",
    "print(nb_conf_matrix)\n",
    "print(\"\\n\")\n",
    "print(classification_report(y_test,y_pred_nb))"
   ]
  },
  {
   "cell_type": "markdown",
   "metadata": {},
   "source": [
    "## Support Vector Classifier"
   ]
  },
  {
   "cell_type": "code",
   "execution_count": 68,
   "metadata": {
    "scrolled": false
   },
   "outputs": [
    {
     "name": "stdout",
     "output_type": "stream",
     "text": [
      "Test Accuracy score:  0.8688524590163934\n",
      "Test F1 score:  0.8857142857142858\n",
      "confusion matrix\n",
      "[[22  5]\n",
      " [ 3 31]]\n",
      "\n",
      "\n",
      "Accuracy of Support Vector Classifier: 0.8688524590163934 \n",
      "\n",
      "              precision    recall  f1-score   support\n",
      "\n",
      "           0       0.88      0.81      0.85        27\n",
      "           1       0.86      0.91      0.89        34\n",
      "\n",
      "    accuracy                           0.87        61\n",
      "   macro avg       0.87      0.86      0.87        61\n",
      "weighted avg       0.87      0.87      0.87        61\n",
      "\n"
     ]
    }
   ],
   "source": [
    "svc =  SVC(kernel='rbf', C=2)\n",
    "svc.fit(X_train, y_train)\n",
    "y_pred_svc = svc.predict(X_test)\n",
    "svc_conf_matrix = confusion_matrix(y_test, y_pred_svc)\n",
    "svc_acc_score = metrics.accuracy_score(y_test, y_pred_svc)\n",
    "svc_f1_score = metrics.f1_score(y_test, y_pred_svc)\n",
    "print('Test Accuracy score: ',svc_acc_score)\n",
    "print('Test F1 score: ', svc_f1_score)\n",
    "print(\"confusion matrix\")\n",
    "print(svc_conf_matrix)\n",
    "print(\"\\n\")\n",
    "print(\"Accuracy of Support Vector Classifier:\",svc_acc_score,'\\n')\n",
    "print(classification_report(y_test,y_pred_svc))"
   ]
  },
  {
   "cell_type": "code",
   "execution_count": 69,
   "metadata": {
    "scrolled": true
   },
   "outputs": [
    {
     "data": {
      "image/png": "[encoded data removed]",
      "text/plain": [
       "<Figure size 432x288 with 1 Axes>"
      ]
     },
     "metadata": {
      "needs_background": "light"
     },
     "output_type": "display_data"
    }
   ],
   "source": [
    "feature_importance = abs(logreg.coef_[0])\n",
    "feature_importance = 100.0 * (feature_importance / feature_importance.max())\n",
    "sorted_idx = np.argsort(feature_importance)\n",
    "pos = np.arange(sorted_idx.shape[0]) + .5\n",
    "\n",
    "featfig = plt.figure()\n",
    "featax = featfig.add_subplot(1, 1, 1)\n",
    "featax.barh(pos, feature_importance[sorted_idx], align='center')\n",
    "featax.set_yticks(pos)\n",
    "featax.set_yticklabels(np.array(X.columns)[sorted_idx], fontsize=10)\n",
    "featax.set_xlabel('Relative Feature Importance')\n",
    "\n",
    "plt.tight_layout()   \n",
    "plt.show()"
   ]
  },
  {
   "cell_type": "markdown",
   "metadata": {},
   "source": [
    "# Model Evaluation"
   ]
  },
  {
   "cell_type": "code",
   "execution_count": 105,
   "metadata": {
    "scrolled": true
   },
   "outputs": [
    {
     "data": {
      "text/html": [
       "<div>\n",
       "<style scoped>\n",
       "    .dataframe tbody tr th:only-of-type {\n",
       "        vertical-align: middle;\n",
       "    }\n",
       "\n",
       "    .dataframe tbody tr th {\n",
       "        vertical-align: top;\n",
       "    }\n",
       "\n",
       "    .dataframe thead th {\n",
       "        text-align: right;\n",
       "    }\n",
       "</style>\n",
       "<table border=\"1\" class=\"dataframe\">\n",
       "  <thead>\n",
       "    <tr style=\"text-align: right;\">\n",
       "      <th></th>\n",
       "      <th>Model</th>\n",
       "      <th>Accuracy</th>\n",
       "    </tr>\n",
       "  </thead>\n",
       "  <tbody>\n",
       "    <tr>\n",
       "      <th>0</th>\n",
       "      <td>Logistic Regression</td>\n",
       "      <td>0.885246</td>\n",
       "    </tr>\n",
       "    <tr>\n",
       "      <th>1</th>\n",
       "      <td>Random Forest</td>\n",
       "      <td>0.836066</td>\n",
       "    </tr>\n",
       "    <tr>\n",
       "      <th>2</th>\n",
       "      <td>Extreme Gradient Boost</td>\n",
       "      <td>0.754098</td>\n",
       "    </tr>\n",
       "    <tr>\n",
       "      <th>3</th>\n",
       "      <td>K-Nearest Neighbour</td>\n",
       "      <td>0.819672</td>\n",
       "    </tr>\n",
       "    <tr>\n",
       "      <th>4</th>\n",
       "      <td>Decision Tree</td>\n",
       "      <td>0.737705</td>\n",
       "    </tr>\n",
       "    <tr>\n",
       "      <th>5</th>\n",
       "      <td>Naive Bayes</td>\n",
       "      <td>0.868852</td>\n",
       "    </tr>\n",
       "    <tr>\n",
       "      <th>6</th>\n",
       "      <td>Support Vector Classifier</td>\n",
       "      <td>0.868852</td>\n",
       "    </tr>\n",
       "  </tbody>\n",
       "</table>\n",
       "</div>"
      ],
      "text/plain": [
       "                       Model  Accuracy\n",
       "0        Logistic Regression  0.885246\n",
       "1              Random Forest  0.836066\n",
       "2     Extreme Gradient Boost  0.754098\n",
       "3        K-Nearest Neighbour  0.819672\n",
       "4              Decision Tree  0.737705\n",
       "5                Naive Bayes  0.868852\n",
       "6  Support Vector Classifier  0.868852"
      ]
     },
     "execution_count": 105,
     "metadata": {},
     "output_type": "execute_result"
    }
   ],
   "source": [
    "model_ev = pd.DataFrame({'Model': ['Logistic Regression','Random Forest','Extreme Gradient Boost',\n",
    "                    'K-Nearest Neighbour','Decision Tree','Naive Bayes', 'Support Vector Classifier'], 'Accuracy': [lr_acc_score,\n",
    "                    rfc_acc_score,xgb_acc_score,knn_acc_score,tree_acc_score,nb_acc_score, svc_acc_score]})\n",
    "model_ev"
   ]
  },
  {
   "cell_type": "markdown",
   "metadata": {},
   "source": [
    "# Ensembling"
   ]
  },
  {
   "cell_type": "code",
   "execution_count": 71,
   "metadata": {
    "scrolled": true
   },
   "outputs": [
    {
     "name": "stdout",
     "output_type": "stream",
     "text": [
      "confusion matrix\n",
      "[[24  3]\n",
      " [ 2 32]]\n",
      "\n",
      "\n",
      "Accuracy of StackingCVClassifier: 91.80327868852459 \n",
      "\n",
      "              precision    recall  f1-score   support\n",
      "\n",
      "           0       0.92      0.89      0.91        27\n",
      "           1       0.91      0.94      0.93        34\n",
      "\n",
      "    accuracy                           0.92        61\n",
      "   macro avg       0.92      0.92      0.92        61\n",
      "weighted avg       0.92      0.92      0.92        61\n",
      "\n"
     ]
    }
   ],
   "source": [
    "scv=StackingCVClassifier(classifiers=[logreg,nb,svc],meta_classifier=nb,random_state=22)\n",
    "scv.fit(X_train,y_train)\n",
    "scv_predicted = scv.predict(X_test)\n",
    "scv_conf_matrix = confusion_matrix(y_test, scv_predicted)\n",
    "scv_acc_score = accuracy_score(y_test, scv_predicted)\n",
    "scv_f1_score = f1_score(y_test, scv_predicted)\n",
    "\n",
    "print(\"confusion matrix\")\n",
    "print(scv_conf_matrix)\n",
    "print(\"\\n\")\n",
    "print(\"Accuracy of StackingCVClassifier:\",scv_acc_score*100,'\\n')\n",
    "print(classification_report(y_test,scv_predicted))"
   ]
  },
  {
   "cell_type": "code",
   "execution_count": 72,
   "metadata": {},
   "outputs": [],
   "source": [
    "cm = confusion_matrix(y_test, scv_predicted)\n",
    "classes = ['No Disease', 'Disease']"
   ]
  },
  {
   "cell_type": "code",
   "execution_count": 73,
   "metadata": {},
   "outputs": [],
   "source": [
    "def plot_confusion_matrix(cm, classes,\n",
    "                          normalize=False,\n",
    "                          title='Confusion matrix',\n",
    "                          cmap=plt.cm.Blues):\n",
    "    \"\"\"\n",
    "    This function prints and plots the confusion matrix.\n",
    "    Normalization can be applied by setting `normalize=True`.\n",
    "    \"\"\"\n",
    "    if normalize:\n",
    "        cm = cm.astype('float') / cm.sum(axis=1)[:, np.newaxis]\n",
    "        print(\"Normalized confusion matrix\")\n",
    "    else:\n",
    "        print('Confusion Matrix, without normalization')\n",
    "\n",
    "    print(cm)\n",
    "\n",
    "    plt.imshow(cm, interpolation='nearest', cmap=cmap)\n",
    "    plt.title(title)\n",
    "    plt.colorbar()\n",
    "    tick_marks = np.arange(len(classes))\n",
    "    plt.xticks(tick_marks, classes, rotation=45)\n",
    "    plt.yticks(tick_marks, classes)\n",
    "\n",
    "    fmt = '.2f' if normalize else 'd'\n",
    "    thresh = cm.max() / 2.\n",
    "    for i, j in itertools.product(range(cm.shape[0]), range(cm.shape[1])):\n",
    "        plt.text(j, i, format(cm[i, j], fmt),\n",
    "                 horizontalalignment=\"center\",\n",
    "                 color=\"white\" if cm[i, j] > thresh else \"black\")\n",
    "\n",
    "    plt.tight_layout()\n",
    "    plt.ylabel('True label')\n",
    "    plt.xlabel('Predicted label')   "
   ]
  },
  {
   "cell_type": "code",
   "execution_count": 74,
   "metadata": {},
   "outputs": [
    {
     "name": "stdout",
     "output_type": "stream",
     "text": [
      "Confusion Matrix, without normalization\n",
      "[[24  3]\n",
      " [ 2 32]]\n"
     ]
    },
    {
     "data": {
      "image/png": "[encoded data removed]",
      "text/plain": [
       "<Figure size 432x288 with 2 Axes>"
      ]
     },
     "metadata": {
      "needs_background": "light"
     },
     "output_type": "display_data"
    }
   ],
   "source": [
    "plot=plot_confusion_matrix(cm, classes,\n",
    "                          normalize=False,\n",
    "                          title='Confusion matrix (Ensemble)',\n",
    "                          cmap=plt.cm.Blues)"
   ]
  },
  {
   "cell_type": "markdown",
   "metadata": {},
   "source": [
    "## Plot ROC Curves"
   ]
  },
  {
   "cell_type": "code",
   "execution_count": 75,
   "metadata": {},
   "outputs": [],
   "source": [
    "# Generate ROC curve values: fpr, tpr, thresholds\n",
    "fpr_log, tpr_log, thresholds_log = roc_curve(y_test, y_pred_log)\n",
    "fpr_knn, tpr_knn, thresholds_knn = roc_curve(y_test, y_pred_knn)\n",
    "fpr_tree, tpr_tree, thresholds_tree = roc_curve(y_test, y_pred_tree)\n",
    "fpr_rfc, tpr_rfc, thresholds_rfc = roc_curve(y_test, y_pred_forest)\n",
    "fpr_xgb, tpr_xgb, thresholds_log = roc_curve(y_test, y_pred_xgb)\n",
    "fpr_nb, tpr_nb, thresholds_log = roc_curve(y_test, y_pred_nb)\n",
    "fpr_svc, tpr_svc, thresholds_log = roc_curve(y_test, y_pred_svc)\n",
    "fpr_ens, tpr_ens, thresholds_ens = roc_curve(y_test, scv_predicted)\n"
   ]
  },
  {
   "cell_type": "code",
   "execution_count": 76,
   "metadata": {
    "scrolled": true
   },
   "outputs": [
    {
     "data": {
      "image/png": "[encoded data removed]",
      "text/plain": [
       "<Figure size 432x288 with 1 Axes>"
      ]
     },
     "metadata": {
      "needs_background": "light"
     },
     "output_type": "display_data"
    }
   ],
   "source": [
    "# Plot ROC curve\n",
    "plt.plot([0, 1], [0, 1], 'k--')\n",
    "plt.plot(fpr_log, tpr_log,label = 'Logistic')\n",
    "plt.plot(fpr_knn, tpr_knn,label = 'KNN')\n",
    "plt.plot(fpr_tree, tpr_tree,label = 'Decision Tree')\n",
    "plt.plot(fpr_rfc, tpr_rfc,label = 'Random Forest')\n",
    "plt.plot(fpr_xgb,tpr_xgb,label= 'XGB')\n",
    "plt.plot(fpr_nb,tpr_nb,label= 'Naive Bayes')\n",
    "plt.plot(fpr_svc,tpr_svc,label= 'Support Vector Classifier')\n",
    "plt.plot(fpr_ens, tpr_ens,label = 'Ensemble')\n",
    "plt.xlabel('False Positive Rate')\n",
    "plt.ylabel('True Positive Rate')\n",
    "plt.legend()\n",
    "plt.title('ROC Curve no GridSearch')\n",
    "plt.show()"
   ]
  },
  {
   "cell_type": "code",
   "execution_count": 78,
   "metadata": {
    "scrolled": false
   },
   "outputs": [
    {
     "name": "stdout",
     "output_type": "stream",
     "text": [
      "AUC Logistic: 0.8818082788671023\n",
      "AUC KNN: 0.815359477124183\n",
      "AUC Decision Tree: 0.7342047930283224\n",
      "AUC Random Forest: 0.8338779956427016\n",
      "AUC XGB: 0.7489106753812637\n",
      "AUC Naive Bayes: 0.8594771241830065\n",
      "AUC Support Vector Classifier: 0.8632897603485838\n",
      "AUC Ensemble: 0.9150326797385621\n"
     ]
    }
   ],
   "source": [
    "# Compute and print AUC score\n",
    "print(\"AUC Logistic: {}\".format(roc_auc_score(y_test, y_pred_log)))\n",
    "print(\"AUC KNN: {}\".format(roc_auc_score(y_test, y_pred_knn)))\n",
    "print(\"AUC Decision Tree: {}\".format(roc_auc_score(y_test, y_pred_tree)))\n",
    "print(\"AUC Random Forest: {}\".format(roc_auc_score(y_test, y_pred_forest)))\n",
    "print(\"AUC XGB: {}\".format(roc_auc_score(y_test, y_pred_xgb)))\n",
    "print(\"AUC Naive Bayes: {}\".format(roc_auc_score(y_test, y_pred_nb)))\n",
    "print(\"AUC Support Vector Classifier: {}\".format(roc_auc_score(y_test, y_pred_svc)))\n",
    "print(\"AUC Ensemble: {}\".format(roc_auc_score(y_test, scv_predicted)))\n"
   ]
  },
  {
   "cell_type": "markdown",
   "metadata": {},
   "source": [
    "# Grid Search CV"
   ]
  },
  {
   "cell_type": "markdown",
   "metadata": {},
   "source": [
    "## LR Grid"
   ]
  },
  {
   "cell_type": "code",
   "execution_count": 151,
   "metadata": {},
   "outputs": [],
   "source": [
    "#SET PARAMATER GRID\n",
    "param_grid_log =  {'penalty' : ['l1', 'l2'],\n",
    "                   'C' : np.logspace(-4, 4, 20),\n",
    "                  }\n",
    "grid_search_log = GridSearchCV(estimator = logreg, param_grid = param_grid_log,cv = 7,scoring = 'accuracy',n_jobs = -1)"
   ]
  },
  {
   "cell_type": "code",
   "execution_count": 152,
   "metadata": {},
   "outputs": [
    {
     "name": "stdout",
     "output_type": "stream",
     "text": [
      "{'C': 0.615848211066026, 'dual': False, 'penalty': 'l2'}\n"
     ]
    }
   ],
   "source": [
    "grid_search_log.fit(X_train,y_train)\n",
    "log_params = grid_search_log.best_params_\n",
    "print(log_params)"
   ]
  },
  {
   "cell_type": "code",
   "execution_count": 155,
   "metadata": {
    "scrolled": true
   },
   "outputs": [
    {
     "name": "stdout",
     "output_type": "stream",
     "text": [
      "Test Accuracy score:  0.8852459016393442\n",
      "Test F1 score:  0.8985507246376812\n"
     ]
    }
   ],
   "source": [
    "logreg_grid = LogisticRegression(**log_params)\n",
    "\n",
    "logreg_grid.fit(X_train, y_train)\n",
    "\n",
    "y_pred_log_grid = logreg_grid.predict(X_test)\n",
    "\n",
    "lr_f1_score2=metrics.f1_score(y_test, y_pred_log_grid)\n",
    "lr_acc_score2=metrics.accuracy_score(y_test, y_pred_log_grid)\n",
    "# checking accuracy\n",
    "print('Test Accuracy score: ', lr_acc_score2)\n",
    "\n",
    "# checking F1\n",
    "print('Test F1 score: ', lr_f1_score2)"
   ]
  },
  {
   "cell_type": "markdown",
   "metadata": {},
   "source": [
    "## XGB Grid"
   ]
  },
  {
   "cell_type": "code",
   "execution_count": 82,
   "metadata": {
    "scrolled": true
   },
   "outputs": [
    {
     "data": {
      "text/plain": [
       "dict_keys(['base_score', 'colsample_bylevel', 'colsample_bytree', 'gamma', 'learning_rate', 'max_delta_step', 'max_depth', 'min_child_weight', 'missing', 'n_estimators', 'nthread', 'objective', 'reg_alpha', 'reg_lambda', 'scale_pos_weight', 'seed', 'silent', 'subsample'])"
      ]
     },
     "execution_count": 82,
     "metadata": {},
     "output_type": "execute_result"
    }
   ],
   "source": [
    "xg_cl.get_params().keys()"
   ]
  },
  {
   "cell_type": "code",
   "execution_count": 83,
   "metadata": {},
   "outputs": [],
   "source": [
    "#SET PARAMATER GRID\n",
    "param_grid_xgb =  {'max_depth':[3,4,5],\n",
    "                  'learning_rate':[0.1,0.01,0.001],\n",
    "                  'n_estimators':[9,10,11,12],\n",
    "                   'seed':[10,20,25]\n",
    "                  \n",
    "                  }\n",
    "grid_search_xgb = GridSearchCV(estimator = xg_cl, param_grid = param_grid_xgb,cv = 7,scoring = 'accuracy', n_jobs = -1)"
   ]
  },
  {
   "cell_type": "code",
   "execution_count": 84,
   "metadata": {},
   "outputs": [
    {
     "name": "stdout",
     "output_type": "stream",
     "text": [
      "{'learning_rate': 0.1, 'max_depth': 4, 'n_estimators': 11, 'seed': 10}\n"
     ]
    }
   ],
   "source": [
    "grid_search_xgb.fit(X_train,y_train)\n",
    "xgb_params = grid_search_xgb.best_params_\n",
    "print(xgb_params)"
   ]
  },
  {
   "cell_type": "code",
   "execution_count": 85,
   "metadata": {},
   "outputs": [
    {
     "name": "stdout",
     "output_type": "stream",
     "text": [
      "Test F1 score:  0.8405797101449276\n",
      "Test Accuracy score: 0.819672131147541\n"
     ]
    }
   ],
   "source": [
    "xgb_grid = xgb.XGBClassifier(**xgb_params)\n",
    "xgb_grid.fit(X_train,y_train)\n",
    "y_pred_xgb_grid = xgb_grid.predict(X_test)\n",
    "xgb_f1_score2=metrics.f1_score(y_test, y_pred_xgb_grid)\n",
    "xgb_acc_score2=metrics.accuracy_score(y_test, y_pred_xgb_grid)\n",
    "\n",
    "# checking accuracy\n",
    "print('Test F1 score: ', xgb_f1_score2)\n",
    "print('Test Accuracy score:', xgb_acc_score2)"
   ]
  },
  {
   "cell_type": "markdown",
   "metadata": {},
   "source": [
    "## NB Grid"
   ]
  },
  {
   "cell_type": "code",
   "execution_count": 156,
   "metadata": {
    "scrolled": true
   },
   "outputs": [
    {
     "data": {
      "text/plain": [
       "dict_keys(['priors', 'var_smoothing'])"
      ]
     },
     "execution_count": 156,
     "metadata": {},
     "output_type": "execute_result"
    }
   ],
   "source": [
    "nb.get_params().keys()"
   ]
  },
  {
   "cell_type": "code",
   "execution_count": 172,
   "metadata": {},
   "outputs": [],
   "source": [
    "#SET PARAMATER GRID\n",
    "param_grid_nb =  {'var_smoothing': np.logspace(0,-20, num=2)}\n",
    "#0,-20, num=10\n",
    "grid_search_nb = GridSearchCV(estimator = nb, param_grid = param_grid_nb, scoring = 'accuracy')"
   ]
  },
  {
   "cell_type": "code",
   "execution_count": 173,
   "metadata": {},
   "outputs": [
    {
     "name": "stdout",
     "output_type": "stream",
     "text": [
      "{'var_smoothing': 1e-20}\n"
     ]
    }
   ],
   "source": [
    "grid_search_nb.fit(X_train,y_train)\n",
    "nb_params = grid_search_nb.best_params_\n",
    "print(nb_params)"
   ]
  },
  {
   "cell_type": "code",
   "execution_count": 174,
   "metadata": {},
   "outputs": [
    {
     "name": "stdout",
     "output_type": "stream",
     "text": [
      "Test F1 score:  0.8888888888888888\n",
      "Test Accuracy score:  0.8688524590163934\n"
     ]
    }
   ],
   "source": [
    "nb_grid = GaussianNB(**nb_params)\n",
    "nb_grid.fit(X_train,y_train)\n",
    "y_pred_nb_grid = nb_grid.predict(X_test)\n",
    "nb_f1_score2=metrics.f1_score(y_test, y_pred_nb_grid)\n",
    "nb_acc_score2=metrics.accuracy_score(y_test, y_pred_nb_grid)\n",
    "\n",
    "\n",
    "# checking accuracy\n",
    "print('Test F1 score: ', nb_f1_score2)\n",
    "print('Test Accuracy score: ', nb_acc_score2)"
   ]
  },
  {
   "cell_type": "markdown",
   "metadata": {},
   "source": [
    "## SVC Grid"
   ]
  },
  {
   "cell_type": "code",
   "execution_count": 90,
   "metadata": {},
   "outputs": [
    {
     "data": {
      "text/plain": [
       "dict_keys(['C', 'break_ties', 'cache_size', 'class_weight', 'coef0', 'decision_function_shape', 'degree', 'gamma', 'kernel', 'max_iter', 'probability', 'random_state', 'shrinking', 'tol', 'verbose'])"
      ]
     },
     "execution_count": 90,
     "metadata": {},
     "output_type": "execute_result"
    }
   ],
   "source": [
    "svc.get_params().keys()\n",
    "#kernel='rbf', C=2"
   ]
  },
  {
   "cell_type": "code",
   "execution_count": 91,
   "metadata": {},
   "outputs": [],
   "source": [
    "#SET PARAMATER GRID\n",
    "param_grid_svc =  {'kernel':['linear', 'rbf', 'poly'],\n",
    "                   'C' :[0.01,0.1, 1, 1.5,2],\n",
    "                   'class_weight':['balanced', None]\n",
    "                  }\n",
    "grid_search_svc = GridSearchCV(estimator = svc, param_grid = param_grid_svc,cv = 7,scoring = 'accuracy', n_jobs = -1)"
   ]
  },
  {
   "cell_type": "code",
   "execution_count": 92,
   "metadata": {},
   "outputs": [
    {
     "name": "stdout",
     "output_type": "stream",
     "text": [
      "{'C': 0.1, 'class_weight': 'balanced', 'kernel': 'linear'}\n"
     ]
    }
   ],
   "source": [
    "grid_search_svc.fit(X_train,y_train)\n",
    "svc_params = grid_search_svc.best_params_\n",
    "print(svc_params)"
   ]
  },
  {
   "cell_type": "code",
   "execution_count": 93,
   "metadata": {},
   "outputs": [
    {
     "name": "stdout",
     "output_type": "stream",
     "text": [
      "Test F1 score:  0.8985507246376812\n",
      "Test Accuracy score: 0.8852459016393442\n"
     ]
    }
   ],
   "source": [
    "svc_grid = SVC(**svc_params, probability=True)\n",
    "svc_grid.fit(X_train,y_train)\n",
    "y_pred_svc_grid = svc_grid.predict(X_test)\n",
    "svc_f1_score2=metrics.f1_score(y_test, y_pred_svc_grid)\n",
    "svc_acc_score2=metrics.accuracy_score(y_test, y_pred_svc_grid)\n",
    "\n",
    "\n",
    "svc_conf_matrix = confusion_matrix(y_test, y_pred_svc_grid)\n",
    "svc_acc_score_grid = metrics.accuracy_score(y_test, y_pred_svc_grid)\n",
    "print('Test F1 score: ',svc_f1_score2)\n",
    "print('Test Accuracy score:', svc_acc_score2)"
   ]
  },
  {
   "cell_type": "markdown",
   "metadata": {},
   "source": [
    "# KNN Grid"
   ]
  },
  {
   "cell_type": "code",
   "execution_count": 94,
   "metadata": {},
   "outputs": [],
   "source": [
    "#SET PARAMATER GRID\n",
    "param_grid_knn = {'n_neighbors' : [5,10,15,20],\n",
    "                 'weights':['uniform','distance']\n",
    "                 }\n",
    "grid_search_knn = GridSearchCV(estimator = knn, param_grid = param_grid_knn,cv = 3, scoring = 'f1',n_jobs = -1)\n"
   ]
  },
  {
   "cell_type": "code",
   "execution_count": 95,
   "metadata": {},
   "outputs": [
    {
     "name": "stdout",
     "output_type": "stream",
     "text": [
      "{'n_neighbors': 10, 'weights': 'uniform'}\n"
     ]
    }
   ],
   "source": [
    "grid_search_knn.fit(X_train,y_train)\n",
    "knn_params = grid_search_knn.best_params_\n",
    "print(knn_params)"
   ]
  },
  {
   "cell_type": "code",
   "execution_count": 96,
   "metadata": {},
   "outputs": [
    {
     "name": "stdout",
     "output_type": "stream",
     "text": [
      "Test F1 score:  0.8888888888888888\n",
      "Test Accuracy score:  0.8688524590163934\n"
     ]
    }
   ],
   "source": [
    "knn_grid = KNeighborsClassifier(**knn_params)\n",
    "knn_grid.fit(X_train,y_train)\n",
    "y_pred_knn_grid = knn_grid.predict(X_test)\n",
    "knn_f1_score2=metrics.f1_score(y_test, y_pred_knn_grid)\n",
    "knn_acc_score2=metrics.accuracy_score(y_test, y_pred_knn_grid)\n",
    "\n",
    "# checking F1\n",
    "print('Test F1 score: ', knn_f1_score2)\n",
    "# checking accuracy\n",
    "print('Test Accuracy score: ', knn_acc_score2)"
   ]
  },
  {
   "cell_type": "markdown",
   "metadata": {},
   "source": [
    "# Decision tree grid"
   ]
  },
  {
   "cell_type": "code",
   "execution_count": 97,
   "metadata": {},
   "outputs": [],
   "source": [
    "#SET PARAMATER GRID\n",
    "param_grid_tree = { 'criterion' : ['gini', 'entropy'],\n",
    "                   'max_depth' : [2,3,4,5,6],\n",
    "                  'min_samples_leaf':[6,7,8], \n",
    "                   'max_leaf_nodes' : [12,13,14,15],\n",
    "                   'max_features': ['auto','sqrt','log2'],\n",
    "                   'random_state': [42,52,62]\n",
    "                  }\n",
    "grid_search_tree = GridSearchCV(estimator = tree, param_grid = param_grid_tree,cv = 7,scoring = 'accuracy', n_jobs = -1)"
   ]
  },
  {
   "cell_type": "code",
   "execution_count": 98,
   "metadata": {},
   "outputs": [
    {
     "name": "stdout",
     "output_type": "stream",
     "text": [
      "{'criterion': 'entropy', 'max_depth': 6, 'max_features': 'auto', 'max_leaf_nodes': 13, 'min_samples_leaf': 7, 'random_state': 52}\n"
     ]
    }
   ],
   "source": [
    "grid_search_tree.fit(X_train,y_train)\n",
    "tree_params = grid_search_tree.best_params_\n",
    "print(tree_params)"
   ]
  },
  {
   "cell_type": "code",
   "execution_count": 99,
   "metadata": {},
   "outputs": [
    {
     "name": "stdout",
     "output_type": "stream",
     "text": [
      "Test F1 score:  0.806451612903226\n",
      "Test Accuracy score:  0.8032786885245902\n"
     ]
    }
   ],
   "source": [
    "tree_grid = DecisionTreeClassifier(**tree_params)\n",
    "tree_grid.fit(X_train, y_train)\n",
    "y_pred_tree_grid = tree_grid.predict(X_test)\n",
    "tree_f1_score2=metrics.f1_score(y_test, y_pred_tree_grid)\n",
    "tree_acc_score2=metrics.accuracy_score(y_test, y_pred_tree_grid)\n",
    "\n",
    "# checking F1\n",
    "print('Test F1 score: ', tree_f1_score2)\n",
    "# checking accuracy\n",
    "print('Test Accuracy score: ', tree_acc_score2)"
   ]
  },
  {
   "cell_type": "markdown",
   "metadata": {},
   "source": [
    "# Random forest grid"
   ]
  },
  {
   "cell_type": "code",
   "execution_count": 100,
   "metadata": {},
   "outputs": [],
   "source": [
    "#SET PARAMATER GRID\n",
    "param_grid_forest = { \n",
    "    'criterion': ['gini', 'entropy'],\n",
    "    'max_leaf_nodes': [50,60,70],\n",
    "    'max_depth': [4,5,6],\n",
    "    'max_features': ['auto', 'log2']\n",
    "    \n",
    "}\n",
    "\n",
    "grid_search_forest = GridSearchCV(estimator = rfc, param_grid = param_grid_forest,cv = 5,scoring = 'accuracy')"
   ]
  },
  {
   "cell_type": "code",
   "execution_count": 101,
   "metadata": {},
   "outputs": [
    {
     "name": "stdout",
     "output_type": "stream",
     "text": [
      "{'criterion': 'entropy', 'max_depth': 5, 'max_features': 'log2', 'max_leaf_nodes': 50}\n"
     ]
    }
   ],
   "source": [
    "\n",
    "grid_search_forest.fit(X_train,y_train)\n",
    "forest_params = grid_search_forest.best_params_\n",
    "print(forest_params)"
   ]
  },
  {
   "cell_type": "code",
   "execution_count": 102,
   "metadata": {},
   "outputs": [
    {
     "name": "stdout",
     "output_type": "stream",
     "text": [
      "Test F1 score:  0.8695652173913043\n",
      "Test Accuracy score:  0.8524590163934426\n"
     ]
    }
   ],
   "source": [
    "forest_grid = RandomForestClassifier(**forest_params)\n",
    "forest_grid.fit(X_train, y_train)\n",
    "y_pred_forest_grid = forest_grid.predict(X_test)\n",
    "rfc_f1_score2=metrics.f1_score(y_test, y_pred_forest_grid)\n",
    "rfc_acc_score2=metrics.accuracy_score(y_test, y_pred_forest_grid)\n",
    "\n",
    "# checking F1\n",
    "print('Test F1 score: ',rfc_f1_score2)\n",
    "# checking accuracy\n",
    "print('Test Accuracy score: ', rfc_acc_score2)\n",
    "\n",
    "#87"
   ]
  },
  {
   "cell_type": "markdown",
   "metadata": {},
   "source": [
    "# Grid Search Model Evaluation"
   ]
  },
  {
   "cell_type": "code",
   "execution_count": 103,
   "metadata": {},
   "outputs": [
    {
     "data": {
      "text/html": [
       "<div>\n",
       "<style scoped>\n",
       "    .dataframe tbody tr th:only-of-type {\n",
       "        vertical-align: middle;\n",
       "    }\n",
       "\n",
       "    .dataframe tbody tr th {\n",
       "        vertical-align: top;\n",
       "    }\n",
       "\n",
       "    .dataframe thead th {\n",
       "        text-align: right;\n",
       "    }\n",
       "</style>\n",
       "<table border=\"1\" class=\"dataframe\">\n",
       "  <thead>\n",
       "    <tr style=\"text-align: right;\">\n",
       "      <th></th>\n",
       "      <th>Model</th>\n",
       "      <th>Accuracy</th>\n",
       "    </tr>\n",
       "  </thead>\n",
       "  <tbody>\n",
       "    <tr>\n",
       "      <th>0</th>\n",
       "      <td>Logistic Regression</td>\n",
       "      <td>0.885246</td>\n",
       "    </tr>\n",
       "    <tr>\n",
       "      <th>1</th>\n",
       "      <td>Random Forest</td>\n",
       "      <td>0.852459</td>\n",
       "    </tr>\n",
       "    <tr>\n",
       "      <th>2</th>\n",
       "      <td>Extreme Gradient Boost</td>\n",
       "      <td>0.819672</td>\n",
       "    </tr>\n",
       "    <tr>\n",
       "      <th>3</th>\n",
       "      <td>K-Nearest Neighbour</td>\n",
       "      <td>0.868852</td>\n",
       "    </tr>\n",
       "    <tr>\n",
       "      <th>4</th>\n",
       "      <td>Decision Tree</td>\n",
       "      <td>0.803279</td>\n",
       "    </tr>\n",
       "    <tr>\n",
       "      <th>5</th>\n",
       "      <td>Naive Bayes</td>\n",
       "      <td>0.868852</td>\n",
       "    </tr>\n",
       "    <tr>\n",
       "      <th>6</th>\n",
       "      <td>Support Vector Classifier</td>\n",
       "      <td>0.885246</td>\n",
       "    </tr>\n",
       "  </tbody>\n",
       "</table>\n",
       "</div>"
      ],
      "text/plain": [
       "                       Model  Accuracy\n",
       "0        Logistic Regression  0.885246\n",
       "1              Random Forest  0.852459\n",
       "2     Extreme Gradient Boost  0.819672\n",
       "3        K-Nearest Neighbour  0.868852\n",
       "4              Decision Tree  0.803279\n",
       "5                Naive Bayes  0.868852\n",
       "6  Support Vector Classifier  0.885246"
      ]
     },
     "execution_count": 103,
     "metadata": {},
     "output_type": "execute_result"
    }
   ],
   "source": [
    "model_ev2 = pd.DataFrame({'Model': ['Logistic Regression','Random Forest','Extreme Gradient Boost',\n",
    "                    'K-Nearest Neighbour','Decision Tree','Naive Bayes', 'Support Vector Classifier'], 'Accuracy': [lr_acc_score2,\n",
    "                    rfc_acc_score2,xgb_acc_score2,knn_acc_score2,tree_acc_score2,nb_acc_score2, svc_acc_score2]})\n",
    "model_ev2"
   ]
  },
  {
   "cell_type": "code",
   "execution_count": 190,
   "metadata": {},
   "outputs": [
    {
     "name": "stdout",
     "output_type": "stream",
     "text": [
      "confusion matrix\n",
      "[[25  2]\n",
      " [ 3 31]]\n",
      "\n",
      "\n",
      "Accuracy of StackingCVClassifier: 91.80327868852459 \n",
      "\n",
      "              precision    recall  f1-score   support\n",
      "\n",
      "           0       0.89      0.93      0.91        27\n",
      "           1       0.94      0.91      0.93        34\n",
      "\n",
      "    accuracy                           0.92        61\n",
      "   macro avg       0.92      0.92      0.92        61\n",
      "weighted avg       0.92      0.92      0.92        61\n",
      "\n"
     ]
    }
   ],
   "source": [
    "scv=StackingCVClassifier(classifiers=[logreg_grid,nb_grid,svc_grid],meta_classifier=logreg_grid,random_state=22)\n",
    "scv.fit(X_train,y_train)\n",
    "scv_predicted = scv.predict(X_test)\n",
    "scv_conf_matrix = confusion_matrix(y_test, scv_predicted)\n",
    "scv_acc_score = accuracy_score(y_test, scv_predicted)\n",
    "scv_f1_score = f1_score(y_test, scv_predicted)\n",
    "\n",
    "print(\"confusion matrix\")\n",
    "print(scv_conf_matrix)\n",
    "print(\"\\n\")\n",
    "print(\"Accuracy of StackingCVClassifier:\",scv_acc_score*100,'\\n')\n",
    "print(classification_report(y_test,scv_predicted))"
   ]
  },
  {
   "cell_type": "code",
   "execution_count": 50,
   "metadata": {},
   "outputs": [],
   "source": [
    "cm = confusion_matrix(y_test, scv_predicted)\n",
    "classes = ['No Disease', 'Disease']"
   ]
  },
  {
   "cell_type": "code",
   "execution_count": 57,
   "metadata": {
    "scrolled": false
   },
   "outputs": [
    {
     "name": "stdout",
     "output_type": "stream",
     "text": [
      "Confusion Matrix, without normalization\n",
      "[[23  4]\n",
      " [ 3 31]]\n"
     ]
    },
    {
     "data": {
      "image/png": "[encoded data removed]",
      "text/plain": [
       "<Figure size 432x288 with 2 Axes>"
      ]
     },
     "metadata": {
      "needs_background": "light"
     },
     "output_type": "display_data"
    }
   ],
   "source": [
    "plot=plot_confusion_matrix(cm, classes,\n",
    "                          normalize=False,\n",
    "                          title='Confusion matrix (Grid Search + Ensemble)',\n",
    "                          cmap=plt.cm.Blues)"
   ]
  },
  {
   "cell_type": "markdown",
   "metadata": {},
   "source": [
    "# Plot ROC Curves"
   ]
  },
  {
   "cell_type": "code",
   "execution_count": 182,
   "metadata": {},
   "outputs": [],
   "source": [
    "# Generate ROC curve values: fpr, tpr, thresholds\n",
    "fpr_log_grid, tpr_log_grid, thresholds_log = roc_curve(y_test, y_pred_log_grid)\n",
    "fpr_knn_grid, tpr_knn_grid, thresholds_knn = roc_curve(y_test, y_pred_knn_grid)\n",
    "fpr_tree_grid, tpr_tree_grid, thresholds_tree = roc_curve(y_test, y_pred_tree_grid)\n",
    "fpr_rfc_grid, tpr_rfc_grid, thresholds_rfc = roc_curve(y_test, y_pred_forest_grid)\n",
    "fpr_xgb_grid, tpr_xgb_grid, thresholds_log = roc_curve(y_test, y_pred_xgb_grid)\n",
    "fpr_nb_grid, tpr_nb_grid, thresholds_log = roc_curve(y_test, y_pred_nb_grid)\n",
    "fpr_svc_grid, tpr_svc_grid, thresholds_log = roc_curve(y_test, y_pred_svc_grid)\n",
    "fpr_ens, tpr_ens, thresholds_ens = roc_curve(y_test, scv_predicted)"
   ]
  },
  {
   "cell_type": "code",
   "execution_count": 183,
   "metadata": {
    "scrolled": true
   },
   "outputs": [
    {
     "data": {
      "image/png": "[encoded data removed]",
      "text/plain": [
       "<Figure size 432x288 with 1 Axes>"
      ]
     },
     "metadata": {
      "needs_background": "light"
     },
     "output_type": "display_data"
    }
   ],
   "source": [
    "# Plot ROC curve\n",
    "plt.plot([0, 1], [0, 1], 'k--')\n",
    "plt.plot(fpr_log_grid, tpr_log_grid,label = 'Logistic')\n",
    "plt.plot(fpr_knn_grid, tpr_knn_grid,label = 'KNN')\n",
    "plt.plot(fpr_tree_grid, tpr_tree_grid,label = 'Decision Tree')\n",
    "plt.plot(fpr_rfc_grid, tpr_rfc_grid,label = 'Random Forest')\n",
    "plt.plot(fpr_xgb_grid,tpr_xgb_grid,label= 'XGB')\n",
    "plt.plot(fpr_nb_grid,tpr_nb_grid,label= 'Naive Bayes')\n",
    "plt.plot(fpr_svc_grid,tpr_svc_grid,label= 'Support Vector Classifier')\n",
    "plt.plot(fpr_ens, tpr_ens,label = 'Ensemble')\n",
    "plt.xlabel('False Positive Rate')\n",
    "plt.ylabel('True Positive Rate')\n",
    "plt.legend()\n",
    "plt.title('ROC Curve GridSearch')\n",
    "plt.show()"
   ]
  },
  {
   "cell_type": "code",
   "execution_count": 184,
   "metadata": {},
   "outputs": [
    {
     "name": "stdout",
     "output_type": "stream",
     "text": [
      "AUC Logistic: 0.8818082788671023\n",
      "AUC KNN: 0.8594771241830065\n",
      "AUC Decision Tree: 0.8120915032679739\n",
      "AUC Random Forest: 0.8485838779956427\n",
      "AUC XGB: 0.815359477124183\n",
      "AUC Naive Bayes: 0.8594771241830065\n",
      "AUC Support Vector Classifier: 0.8818082788671023\n",
      "AUC Ensemble: 0.9188453159041393\n"
     ]
    }
   ],
   "source": [
    "# Compute and print AUC score\n",
    "print(\"AUC Logistic: {}\".format(roc_auc_score(y_test, y_pred_log_grid)))\n",
    "print(\"AUC KNN: {}\".format(roc_auc_score(y_test, y_pred_knn_grid)))\n",
    "print(\"AUC Decision Tree: {}\".format(roc_auc_score(y_test, y_pred_tree_grid)))\n",
    "print(\"AUC Random Forest: {}\".format(roc_auc_score(y_test, y_pred_forest_grid)))\n",
    "print(\"AUC XGB: {}\".format(roc_auc_score(y_test, y_pred_xgb_grid)))\n",
    "print(\"AUC Naive Bayes: {}\".format(roc_auc_score(y_test, y_pred_nb_grid)))\n",
    "print(\"AUC Support Vector Classifier: {}\".format(roc_auc_score(y_test, y_pred_svc_grid)))\n",
    "print(\"AUC Ensemble: {}\".format(roc_auc_score(y_test, scv_predicted)))"
   ]
  },
  {
   "cell_type": "code",
   "execution_count": null,
   "metadata": {},
   "outputs": [],
   "source": []
  }
 ],
 "metadata": {
  "kernelspec": {
   "display_name": "Python 3",
   "language": "python",
   "name": "python3"
  },
  "language_info": {
   "codemirror_mode": {
    "name": "ipython",
    "version": 3
   },
   "file_extension": ".py",
   "mimetype": "text/x-python",
   "name": "python",
   "nbconvert_exporter": "python",
   "pygments_lexer": "ipython3",
   "version": "3.6.9"
  }
 },
 "nbformat": 4,
 "nbformat_minor": 2
}
