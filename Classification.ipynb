{
 "cells": [
  {
   "cell_type": "code",
   "execution_count": 15,
   "metadata": {
    "scrolled": true
   },
   "outputs": [
    {
     "name": "stderr",
     "output_type": "stream",
     "text": [
      "\n",
      "Bad key \"text.kerning_factor\" on line 4 in\n",
      "/opt/anaconda3/envs/learn-env/lib/python3.6/site-packages/matplotlib/mpl-data/stylelib/_classic_test_patch.mplstyle.\n",
      "You probably need to get an updated matplotlibrc file from\n",
      "http://github.com/matplotlib/matplotlib/blob/master/matplotlibrc.template\n",
      "or from the matplotlib source distribution\n"
     ]
    }
   ],
   "source": [
    "import pandas as pd\n",
    "import matplotlib.pyplot as plt\n",
    "from collections import Counter\n",
    "from sklearn.preprocessing import StandardScaler\n",
    "# data splitting\n",
    "from sklearn.model_selection import train_test_split\n",
    "# data modeling\n",
    "from sklearn.metrics import confusion_matrix,accuracy_score,roc_curve,classification_report\n",
    "from sklearn.linear_model import LogisticRegression\n",
    "from sklearn.naive_bayes import GaussianNB\n",
    "from xgboost import XGBClassifier\n",
    "from sklearn.ensemble import RandomForestClassifier\n",
    "from sklearn.tree import DecisionTreeClassifier\n",
    "from sklearn.neighbors import KNeighborsClassifier\n",
    "from sklearn.naive_bayes import GaussianNB\n",
    "from sklearn.svm import SVC\n",
    "#ensembling\n",
    "from mlxtend.classifier import StackingCVClassifier\n",
    "import xgboost as xgb"
   ]
  },
  {
   "cell_type": "code",
   "execution_count": 2,
   "metadata": {},
   "outputs": [],
   "source": [
    "df=pd.read_csv('cleaned_df.csv',index_col=0)"
   ]
  },
  {
   "cell_type": "code",
   "execution_count": 3,
   "metadata": {},
   "outputs": [],
   "source": [
    "y = df[\"target\"]\n",
    "X = df.drop('target',axis=1)\n",
    "X_train, X_test, y_train, y_test = train_test_split(X, y, test_size=0.20, random_state = 0)\n",
    "scaler = StandardScaler()\n",
    "X_train = scaler.fit_transform(X_train)\n",
    "X_test = scaler.transform(X_test)"
   ]
  },
  {
   "cell_type": "markdown",
   "metadata": {},
   "source": [
    "# Baseline Prediction"
   ]
  },
  {
   "cell_type": "code",
   "execution_count": 4,
   "metadata": {
    "scrolled": true
   },
   "outputs": [
    {
     "data": {
      "text/plain": [
       "0.5445544554455446"
      ]
     },
     "execution_count": 4,
     "metadata": {},
     "output_type": "execute_result"
    }
   ],
   "source": [
    "#GET BASE ACCURACY\n",
    "base = max(df['target'].mean(), (1-df['target'].mean()))\n",
    "base"
   ]
  },
  {
   "cell_type": "markdown",
   "metadata": {},
   "source": [
    "## Logistic Regression"
   ]
  },
  {
   "cell_type": "code",
   "execution_count": 22,
   "metadata": {
    "scrolled": true
   },
   "outputs": [
    {
     "name": "stdout",
     "output_type": "stream",
     "text": [
      "Test Accuracy score:  0.8852459016393442\n",
      "confusion matrix\n",
      "[[23  4]\n",
      " [ 3 31]]\n",
      "\n",
      "\n",
      "              precision    recall  f1-score   support\n",
      "\n",
      "           0       0.88      0.85      0.87        27\n",
      "           1       0.89      0.91      0.90        34\n",
      "\n",
      "    accuracy                           0.89        61\n",
      "   macro avg       0.89      0.88      0.88        61\n",
      "weighted avg       0.89      0.89      0.88        61\n",
      "\n"
     ]
    }
   ],
   "source": [
    "from sklearn import metrics\n",
    "\n",
    "#INSTANTIATE LOGISTIC REGRESSION\n",
    "logreg = LogisticRegression()\n",
    "logreg.fit(X_train, y_train)\n",
    "y_pred_log = logreg.predict(X_test)\n",
    "lr_acc_score=metrics.accuracy_score(y_test, y_pred_log)\n",
    "lr_conf_matrix = confusion_matrix(y_test, y_pred_log)\n",
    "# checking accuracy\n",
    "print('Test Accuracy score: ', lr_acc_score)\n",
    "print(\"confusion matrix\")\n",
    "print(lr_conf_matrix)\n",
    "print(\"\\n\")\n",
    "print(classification_report(y_test,y_pred_log))"
   ]
  },
  {
   "cell_type": "markdown",
   "metadata": {},
   "source": [
    "## KNN"
   ]
  },
  {
   "cell_type": "code",
   "execution_count": 23,
   "metadata": {},
   "outputs": [
    {
     "name": "stdout",
     "output_type": "stream",
     "text": [
      "Test Accuracy score:  0.819672131147541\n",
      "confusion matrix\n",
      "[[21  6]\n",
      " [ 5 29]]\n",
      "\n",
      "\n",
      "              precision    recall  f1-score   support\n",
      "\n",
      "           0       0.81      0.78      0.79        27\n",
      "           1       0.83      0.85      0.84        34\n",
      "\n",
      "    accuracy                           0.82        61\n",
      "   macro avg       0.82      0.82      0.82        61\n",
      "weighted avg       0.82      0.82      0.82        61\n",
      "\n"
     ]
    }
   ],
   "source": [
    "#INSTANTIATE KNN MODEL\n",
    "knn = KNeighborsClassifier()\n",
    "knn.fit(X_train, y_train)\n",
    "# make class predictions for the testing set\n",
    "y_pred_knn = knn.predict(X_test)\n",
    "knn_acc_score=metrics.accuracy_score(y_test, y_pred_knn)\n",
    "knn_conf_matrix = confusion_matrix(y_test, y_pred_knn)\n",
    "# checking accuracy\n",
    "print('Test Accuracy score: ', knn_acc_score)\n",
    "print(\"confusion matrix\")\n",
    "print(knn_conf_matrix)\n",
    "print(\"\\n\")\n",
    "print(classification_report(y_test,y_pred_knn))"
   ]
  },
  {
   "cell_type": "markdown",
   "metadata": {},
   "source": [
    "## Decision Tree Classifier"
   ]
  },
  {
   "cell_type": "code",
   "execution_count": 26,
   "metadata": {},
   "outputs": [
    {
     "name": "stdout",
     "output_type": "stream",
     "text": [
      "Test Accuracy score:  0.7540983606557377\n",
      "confusion matrix\n",
      "[[19  8]\n",
      " [ 7 27]]\n",
      "\n",
      "\n",
      "              precision    recall  f1-score   support\n",
      "\n",
      "           0       0.73      0.70      0.72        27\n",
      "           1       0.77      0.79      0.78        34\n",
      "\n",
      "    accuracy                           0.75        61\n",
      "   macro avg       0.75      0.75      0.75        61\n",
      "weighted avg       0.75      0.75      0.75        61\n",
      "\n"
     ]
    }
   ],
   "source": [
    "# INSATNTIATE DECISION TREE MODEL\n",
    "tree = DecisionTreeClassifier()\n",
    "tree.fit(X_train, y_train)\n",
    "y_pred_tree = tree.predict(X_test)\n",
    "tree_acc_score=metrics.accuracy_score(y_test, y_pred_tree)\n",
    "tree_conf_matrix=confusion_matrix(y_test,y_pred_tree)\n",
    "# checking accuracy\n",
    "print('Test Accuracy score: ', tree_acc_score)\n",
    "print(\"confusion matrix\")\n",
    "print(tree_conf_matrix)\n",
    "print(\"\\n\")\n",
    "print(classification_report(y_test,y_pred_tree))"
   ]
  },
  {
   "cell_type": "markdown",
   "metadata": {},
   "source": [
    "## Random Forest"
   ]
  },
  {
   "cell_type": "code",
   "execution_count": 27,
   "metadata": {},
   "outputs": [
    {
     "name": "stdout",
     "output_type": "stream",
     "text": [
      "Test Accuracy score:  0.8688524590163934\n",
      "confusion matrix\n",
      "[[23  4]\n",
      " [ 4 30]]\n",
      "\n",
      "\n",
      "              precision    recall  f1-score   support\n",
      "\n",
      "           0       0.85      0.85      0.85        27\n",
      "           1       0.88      0.88      0.88        34\n",
      "\n",
      "    accuracy                           0.87        61\n",
      "   macro avg       0.87      0.87      0.87        61\n",
      "weighted avg       0.87      0.87      0.87        61\n",
      "\n"
     ]
    }
   ],
   "source": [
    "#INSTANTIATE RANDOM FOREST MODEL\n",
    "rfc = RandomForestClassifier()\n",
    "rfc.fit(X_train, y_train)\n",
    "y_pred_forest = rfc.predict(X_test)\n",
    "rfc_acc_score=metrics.accuracy_score(y_test, y_pred_forest)\n",
    "rfc_conf_matrix=confusion_matrix(y_test,y_pred_forest)\n",
    "# checking accuracy\n",
    "print('Test Accuracy score: ', rfc_acc_score)\n",
    "print(\"confusion matrix\")\n",
    "print(rfc_conf_matrix)\n",
    "print(\"\\n\")\n",
    "print(classification_report(y_test,y_pred_forest))"
   ]
  },
  {
   "cell_type": "markdown",
   "metadata": {},
   "source": [
    "## XGB"
   ]
  },
  {
   "cell_type": "code",
   "execution_count": 28,
   "metadata": {},
   "outputs": [
    {
     "name": "stdout",
     "output_type": "stream",
     "text": [
      "Test Accuracy score:  0.7540983606557377\n",
      "confusion matrix\n",
      "[[19  8]\n",
      " [ 7 27]]\n",
      "\n",
      "\n",
      "              precision    recall  f1-score   support\n",
      "\n",
      "           0       0.73      0.70      0.72        27\n",
      "           1       0.77      0.79      0.78        34\n",
      "\n",
      "    accuracy                           0.75        61\n",
      "   macro avg       0.75      0.75      0.75        61\n",
      "weighted avg       0.75      0.75      0.75        61\n",
      "\n"
     ]
    }
   ],
   "source": [
    "# Instantiate the XGBClassifier: xg_cl\n",
    "xg_cl = xgb.XGBClassifier(learning_rate=0.01, n_estimators=10, seed=25)\n",
    "# Fit the classifier to the training set\n",
    "xg_cl.fit(X_train,y_train)\n",
    "# Predict the labels of the test set: preds\n",
    "y_pred_xgb = xg_cl.predict(X_test)\n",
    "xgb_acc_score=metrics.accuracy_score(y_test, y_pred_xgb)\n",
    "xgb_conf_matrix=confusion_matrix(y_test,y_pred_xgb)\n",
    "# Compute the accuracy: accuracy\n",
    "# checking accuracy\n",
    "print('Test Accuracy score: ',xgb_acc_score)\n",
    "print(\"confusion matrix\")\n",
    "print(xgb_conf_matrix)\n",
    "print(\"\\n\")\n",
    "print(classification_report(y_test,y_pred_xgb))"
   ]
  },
  {
   "cell_type": "markdown",
   "metadata": {},
   "source": [
    "## Naive Bayes"
   ]
  },
  {
   "cell_type": "code",
   "execution_count": 30,
   "metadata": {},
   "outputs": [
    {
     "name": "stdout",
     "output_type": "stream",
     "text": [
      "Test Accuracy score:  0.8688524590163934\n",
      "confusion matrix\n",
      "[[21  6]\n",
      " [ 2 32]]\n",
      "\n",
      "\n",
      "              precision    recall  f1-score   support\n",
      "\n",
      "           0       0.91      0.78      0.84        27\n",
      "           1       0.84      0.94      0.89        34\n",
      "\n",
      "    accuracy                           0.87        61\n",
      "   macro avg       0.88      0.86      0.86        61\n",
      "weighted avg       0.87      0.87      0.87        61\n",
      "\n"
     ]
    }
   ],
   "source": [
    "nb = GaussianNB()\n",
    "nb.fit(X_train,y_train)\n",
    "y_pred_nb = nb.predict(X_test)\n",
    "nb_conf_matrix = confusion_matrix(y_test,y_pred_nb)\n",
    "nb_acc_score = metrics.accuracy_score(y_test, y_pred_nb)\n",
    "print('Test Accuracy score: ',nb_acc_score)\n",
    "print(\"confusion matrix\")\n",
    "print(nb_conf_matrix)\n",
    "print(\"\\n\")\n",
    "print(classification_report(y_test,y_pred_nb))"
   ]
  },
  {
   "cell_type": "markdown",
   "metadata": {},
   "source": [
    "## Support Vector Classifier"
   ]
  },
  {
   "cell_type": "code",
   "execution_count": 31,
   "metadata": {
    "scrolled": false
   },
   "outputs": [
    {
     "name": "stdout",
     "output_type": "stream",
     "text": [
      "Test Accuracy score:  0.8688524590163934\n",
      "confusion matrix\n",
      "[[22  5]\n",
      " [ 3 31]]\n",
      "\n",
      "\n",
      "Accuracy of Support Vector Classifier: 0.8688524590163934 \n",
      "\n",
      "              precision    recall  f1-score   support\n",
      "\n",
      "           0       0.88      0.81      0.85        27\n",
      "           1       0.86      0.91      0.89        34\n",
      "\n",
      "    accuracy                           0.87        61\n",
      "   macro avg       0.87      0.86      0.87        61\n",
      "weighted avg       0.87      0.87      0.87        61\n",
      "\n"
     ]
    }
   ],
   "source": [
    "svc =  SVC(kernel='rbf', C=2)\n",
    "svc.fit(X_train, y_train)\n",
    "y_pred_svc = svc.predict(X_test)\n",
    "svc_conf_matrix = confusion_matrix(y_test, y_pred_svc)\n",
    "svc_acc_score = metrics.accuracy_score(y_test, y_pred_svc)\n",
    "print('Test Accuracy score: ',svc_acc_score)\n",
    "print(\"confusion matrix\")\n",
    "print(svc_conf_matrix)\n",
    "print(\"\\n\")\n",
    "print(\"Accuracy of Support Vector Classifier:\",svc_acc_score,'\\n')\n",
    "print(classification_report(y_test,y_pred_svc))"
   ]
  },
  {
   "cell_type": "code",
   "execution_count": 16,
   "metadata": {},
   "outputs": [
    {
     "ename": "AttributeError",
     "evalue": "module 'xgboost' has no attribute 'feature_importances_'",
     "output_type": "error",
     "traceback": [
      "\u001b[0;31m---------------------------------------------------------------------------\u001b[0m",
      "\u001b[0;31mAttributeError\u001b[0m                            Traceback (most recent call last)",
      "\u001b[0;32m<ipython-input-16-4b43488ce6b1>\u001b[0m in \u001b[0;36m<module>\u001b[0;34m\u001b[0m\n\u001b[1;32m      1\u001b[0m imp_feature = pd.DataFrame({'Feature': ['age', 'sex', 'cp', 'trestbps', 'chol', 'fbs', 'restecg', 'thalach',\n\u001b[0;32m----> 2\u001b[0;31m        'exang', 'oldpeak', 'slope', 'ca', 'thal'], 'Importance': xgb.feature_importances_})\n\u001b[0m\u001b[1;32m      3\u001b[0m \u001b[0mplt\u001b[0m\u001b[0;34m.\u001b[0m\u001b[0mfigure\u001b[0m\u001b[0;34m(\u001b[0m\u001b[0mfigsize\u001b[0m\u001b[0;34m=\u001b[0m\u001b[0;34m(\u001b[0m\u001b[0;36m10\u001b[0m\u001b[0;34m,\u001b[0m\u001b[0;36m4\u001b[0m\u001b[0;34m)\u001b[0m\u001b[0;34m)\u001b[0m\u001b[0;34m\u001b[0m\u001b[0;34m\u001b[0m\u001b[0m\n\u001b[1;32m      4\u001b[0m \u001b[0mplt\u001b[0m\u001b[0;34m.\u001b[0m\u001b[0mtitle\u001b[0m\u001b[0;34m(\u001b[0m\u001b[0;34m\"barplot Represent feature importance \"\u001b[0m\u001b[0;34m)\u001b[0m\u001b[0;34m\u001b[0m\u001b[0;34m\u001b[0m\u001b[0m\n\u001b[1;32m      5\u001b[0m \u001b[0mplt\u001b[0m\u001b[0;34m.\u001b[0m\u001b[0mxlabel\u001b[0m\u001b[0;34m(\u001b[0m\u001b[0;34m\"importance \"\u001b[0m\u001b[0;34m)\u001b[0m\u001b[0;34m\u001b[0m\u001b[0;34m\u001b[0m\u001b[0m\n",
      "\u001b[0;31mAttributeError\u001b[0m: module 'xgboost' has no attribute 'feature_importances_'"
     ]
    }
   ],
   "source": [
    "imp_feature = pd.DataFrame({'Feature': ['age', 'sex', 'cp', 'trestbps', 'chol', 'fbs', 'restecg', 'thalach',\n",
    "       'exang', 'oldpeak', 'slope', 'ca', 'thal'], 'Importance': xgb.feature_importances_})\n",
    "plt.figure(figsize=(10,4))\n",
    "plt.title(\"barplot Represent feature importance \")\n",
    "plt.xlabel(\"importance \")\n",
    "plt.ylabel(\"features\")\n",
    "plt.barh(imp_feature['Feature'],imp_feature['Importance'],color = 'rgbkymc')\n",
    "plt.show()"
   ]
  },
  {
   "cell_type": "markdown",
   "metadata": {},
   "source": [
    "## Plot ROC Curves"
   ]
  },
  {
   "cell_type": "code",
   "execution_count": 32,
   "metadata": {},
   "outputs": [],
   "source": [
    "# Import necessary modules\n",
    "from sklearn.metrics import roc_curve\n",
    "\n",
    "# Generate ROC curve values: fpr, tpr, thresholds\n",
    "fpr_log, tpr_log, thresholds_log = roc_curve(y_test, y_pred_log)\n",
    "fpr_knn, tpr_knn, thresholds_knn = roc_curve(y_test, y_pred_knn)\n",
    "fpr_tree, tpr_tree, thresholds_tree = roc_curve(y_test, y_pred_tree)\n",
    "fpr_rfc, tpr_rfc, thresholds_rfc = roc_curve(y_test, y_pred_forest)\n",
    "fpr_xgb, tpr_xgb, thresholds_log = roc_curve(y_test, y_pred_xgb)\n",
    "fpr_nb, tpr_nb, thresholds_log = roc_curve(y_test, y_pred_nb)\n",
    "fpr_svc, tpr_svc, thresholds_log = roc_curve(y_test, y_pred_svc)\n",
    "\n"
   ]
  },
  {
   "cell_type": "code",
   "execution_count": 33,
   "metadata": {
    "scrolled": true
   },
   "outputs": [
    {
     "data": {
      "image/png": "[encoded data removed]",
      "text/plain": [
       "<Figure size 432x288 with 1 Axes>"
      ]
     },
     "metadata": {
      "needs_background": "light"
     },
     "output_type": "display_data"
    }
   ],
   "source": [
    "# Plot ROC curve\n",
    "plt.plot([0, 1], [0, 1], 'k--')\n",
    "plt.plot(fpr_log, tpr_log,label = 'Logistic')\n",
    "plt.plot(fpr_knn, tpr_knn,label = 'KNN')\n",
    "plt.plot(fpr_tree, tpr_tree,label = 'Decision Tree')\n",
    "plt.plot(fpr_rfc, tpr_rfc,label = 'Random Forest')\n",
    "plt.plot(fpr_xgb,tpr_xgb,label= 'XGB')\n",
    "plt.plot(fpr_nb,tpr_nb,label= 'Naive Bayes')\n",
    "plt.plot(fpr_svc,tpr_svc,label= 'Support Vector Classifier')\n",
    "plt.xlabel('False Positive Rate')\n",
    "plt.ylabel('True Positive Rate')\n",
    "plt.legend()\n",
    "plt.title('ROC Curve no GridSearch')\n",
    "plt.show()"
   ]
  },
  {
   "cell_type": "code",
   "execution_count": 34,
   "metadata": {
    "scrolled": true
   },
   "outputs": [
    {
     "name": "stdout",
     "output_type": "stream",
     "text": [
      "AUC Logistic: 0.8818082788671023\n",
      "AUC KNN: 0.815359477124183\n",
      "AUC Decision Tree: 0.7489106753812637\n",
      "AUC Random Forest: 0.8671023965141612\n",
      "AUC XGB: 0.7489106753812637\n",
      "AUC Naive Bayes: 0.8594771241830065\n",
      "AUC Support Vector Classifier: 0.8632897603485838\n"
     ]
    }
   ],
   "source": [
    "# Import necessary modules\n",
    "from sklearn.metrics import roc_auc_score\n",
    "from sklearn.model_selection import cross_val_score\n",
    "\n",
    "# Compute and print AUC score\n",
    "print(\"AUC Logistic: {}\".format(roc_auc_score(y_test, y_pred_log)))\n",
    "print(\"AUC KNN: {}\".format(roc_auc_score(y_test, y_pred_knn)))\n",
    "print(\"AUC Decision Tree: {}\".format(roc_auc_score(y_test, y_pred_tree)))\n",
    "print(\"AUC Random Forest: {}\".format(roc_auc_score(y_test, y_pred_forest)))\n",
    "print(\"AUC XGB: {}\".format(roc_auc_score(y_test, y_pred_xgb)))\n",
    "print(\"AUC Naive Bayes: {}\".format(roc_auc_score(y_test, y_pred_nb)))\n",
    "print(\"AUC Support Vector Classifier: {}\".format(roc_auc_score(y_test, y_pred_svc)))\n",
    "\n"
   ]
  },
  {
   "cell_type": "markdown",
   "metadata": {},
   "source": [
    "# Model Evaluation"
   ]
  },
  {
   "cell_type": "code",
   "execution_count": 35,
   "metadata": {},
   "outputs": [
    {
     "data": {
      "text/html": [
       "<div>\n",
       "<style scoped>\n",
       "    .dataframe tbody tr th:only-of-type {\n",
       "        vertical-align: middle;\n",
       "    }\n",
       "\n",
       "    .dataframe tbody tr th {\n",
       "        vertical-align: top;\n",
       "    }\n",
       "\n",
       "    .dataframe thead th {\n",
       "        text-align: right;\n",
       "    }\n",
       "</style>\n",
       "<table border=\"1\" class=\"dataframe\">\n",
       "  <thead>\n",
       "    <tr style=\"text-align: right;\">\n",
       "      <th></th>\n",
       "      <th>Model</th>\n",
       "      <th>Accuracy</th>\n",
       "    </tr>\n",
       "  </thead>\n",
       "  <tbody>\n",
       "    <tr>\n",
       "      <th>0</th>\n",
       "      <td>Logistic Regression</td>\n",
       "      <td>0.885246</td>\n",
       "    </tr>\n",
       "    <tr>\n",
       "      <th>1</th>\n",
       "      <td>Random Forest</td>\n",
       "      <td>0.868852</td>\n",
       "    </tr>\n",
       "    <tr>\n",
       "      <th>2</th>\n",
       "      <td>Extreme Gradient Boost</td>\n",
       "      <td>0.754098</td>\n",
       "    </tr>\n",
       "    <tr>\n",
       "      <th>3</th>\n",
       "      <td>K-Nearest Neighbour</td>\n",
       "      <td>0.819672</td>\n",
       "    </tr>\n",
       "    <tr>\n",
       "      <th>4</th>\n",
       "      <td>Decision Tree</td>\n",
       "      <td>0.754098</td>\n",
       "    </tr>\n",
       "    <tr>\n",
       "      <th>5</th>\n",
       "      <td>Naive Bayes</td>\n",
       "      <td>0.868852</td>\n",
       "    </tr>\n",
       "    <tr>\n",
       "      <th>6</th>\n",
       "      <td>Support Vector Classifier</td>\n",
       "      <td>0.868852</td>\n",
       "    </tr>\n",
       "  </tbody>\n",
       "</table>\n",
       "</div>"
      ],
      "text/plain": [
       "                       Model  Accuracy\n",
       "0        Logistic Regression  0.885246\n",
       "1              Random Forest  0.868852\n",
       "2     Extreme Gradient Boost  0.754098\n",
       "3        K-Nearest Neighbour  0.819672\n",
       "4              Decision Tree  0.754098\n",
       "5                Naive Bayes  0.868852\n",
       "6  Support Vector Classifier  0.868852"
      ]
     },
     "execution_count": 35,
     "metadata": {},
     "output_type": "execute_result"
    }
   ],
   "source": [
    "model_ev = pd.DataFrame({'Model': ['Logistic Regression','Random Forest','Extreme Gradient Boost',\n",
    "                    'K-Nearest Neighbour','Decision Tree','Naive Bayes', 'Support Vector Classifier'], 'Accuracy': [lr_acc_score,\n",
    "                    rfc_acc_score,xgb_acc_score,knn_acc_score,tree_acc_score,nb_acc_score, svc_acc_score]})\n",
    "model_ev"
   ]
  },
  {
   "cell_type": "markdown",
   "metadata": {},
   "source": [
    "# Ensembling"
   ]
  },
  {
   "cell_type": "code",
   "execution_count": 36,
   "metadata": {},
   "outputs": [
    {
     "name": "stdout",
     "output_type": "stream",
     "text": [
      "confusion matrix\n",
      "[[24  3]\n",
      " [ 2 32]]\n",
      "\n",
      "\n",
      "Accuracy of StackingCVClassifier: 91.80327868852459 \n",
      "\n",
      "              precision    recall  f1-score   support\n",
      "\n",
      "           0       0.92      0.89      0.91        27\n",
      "           1       0.91      0.94      0.93        34\n",
      "\n",
      "    accuracy                           0.92        61\n",
      "   macro avg       0.92      0.92      0.92        61\n",
      "weighted avg       0.92      0.92      0.92        61\n",
      "\n"
     ]
    }
   ],
   "source": [
    "scv=StackingCVClassifier(classifiers=[logreg,nb,svc],meta_classifier=nb,random_state=22)\n",
    "scv.fit(X_train,y_train)\n",
    "scv_predicted = scv.predict(X_test)\n",
    "scv_conf_matrix = confusion_matrix(y_test, scv_predicted)\n",
    "scv_acc_score = accuracy_score(y_test, scv_predicted)\n",
    "print(\"confusion matrix\")\n",
    "print(scv_conf_matrix)\n",
    "print(\"\\n\")\n",
    "print(\"Accuracy of StackingCVClassifier:\",scv_acc_score*100,'\\n')\n",
    "print(classification_report(y_test,scv_predicted))"
   ]
  },
  {
   "cell_type": "markdown",
   "metadata": {},
   "source": [
    "# Grid Search CV"
   ]
  },
  {
   "cell_type": "markdown",
   "metadata": {},
   "source": [
    "## LR Grid"
   ]
  },
  {
   "cell_type": "code",
   "execution_count": null,
   "metadata": {},
   "outputs": [],
   "source": [
    "from sklearn.model_selection import GridSearchCV\n",
    "\n",
    "#SET PARAMATER GRID\n",
    "param_grid_log =  {'penalty' : ['l1', 'l2'],\n",
    "                   'C' : np.logspace(-4, 4, 20)}\n",
    "grid_search_log = GridSearchCV(estimator = logreg, param_grid = param_grid_log,cv = 7,scoring = 'f1', n_jobs = -1)"
   ]
  },
  {
   "cell_type": "code",
   "execution_count": null,
   "metadata": {},
   "outputs": [],
   "source": [
    "grid_search_log.fit(X_train,y_train)\n",
    "log_params = grid_search_log.best_params_\n",
    "print(log_params)"
   ]
  },
  {
   "cell_type": "code",
   "execution_count": null,
   "metadata": {},
   "outputs": [],
   "source": [
    "logreg_grid = LogisticRegression(**log_params)\n",
    "\n",
    "logreg_grid.fit(X_train, y_train)\n",
    "\n",
    "y_pred_log_grid = logreg_grid.predict(X_test)\n",
    "\n",
    "# checking accuracy\n",
    "print('Test Accuracy score: ', metrics.accuracy_score(y_test, y_pred_log_grid))\n",
    "\n",
    "# checking F1\n",
    "print('Test F1 score: ', metrics.f1_score(y_test, y_pred_log_grid))"
   ]
  },
  {
   "cell_type": "markdown",
   "metadata": {},
   "source": [
    "# KNN Grid"
   ]
  },
  {
   "cell_type": "code",
   "execution_count": null,
   "metadata": {},
   "outputs": [],
   "source": [
    "#SET PARAMATER GRID\n",
    "param_grid_knn = {'n_neighbors' : [15,17,19],\n",
    "                 'weights':['uniform','distance'],\n",
    "                 'metric' : ['euclidean','manhattan']}\n",
    "grid_search_knn = GridSearchCV(estimator = knn, param_grid = param_grid_knn,cv = 5, scoring = 'f1',n_jobs = -1)\n"
   ]
  },
  {
   "cell_type": "code",
   "execution_count": null,
   "metadata": {},
   "outputs": [],
   "source": [
    "grid_search_knn.fit(X_train,y_train)\n",
    "knn_params = grid_search_knn.best_params_\n",
    "print(knn_params)"
   ]
  },
  {
   "cell_type": "code",
   "execution_count": null,
   "metadata": {},
   "outputs": [],
   "source": [
    "knn_grid = KNeighborsClassifier(**knn_params)\n",
    "knn_grid.fit(X_train,y_train)\n",
    "y_pred_knn_grid = knn_grid.predict(X_test)\n",
    "\n",
    "# checking accuracy\n",
    "print('Test Accuracy score: ', metrics.accuracy_score(y_test, y_pred_knn_grid))\n",
    "\n",
    "# checking F1\n",
    "print('Test F1 score: ', metrics.f1_score(y_test, y_pred_knn_grid))"
   ]
  },
  {
   "cell_type": "markdown",
   "metadata": {},
   "source": [
    "# Decision tree grid"
   ]
  },
  {
   "cell_type": "code",
   "execution_count": null,
   "metadata": {},
   "outputs": [],
   "source": [
    "#SET PARAMATER GRID\n",
    "param_grid_tree = { 'criterion' : ['gini', 'entropy'],\n",
    "                   'max_depth' : [9,12,14],\n",
    "                  'min_samples_leaf':[8,9,11], 'min_samples_split':[2,3,4,5],\n",
    "                  }\n",
    "grid_search_tree = GridSearchCV(estimator = tree, param_grid = param_grid_tree,cv = 7,scoring = 'f1', n_jobs = -1)"
   ]
  },
  {
   "cell_type": "code",
   "execution_count": null,
   "metadata": {},
   "outputs": [],
   "source": [
    "grid_search_tree.fit(X_train,y_train)\n",
    "tree_params = grid_search_tree.best_params_\n",
    "print(tree_params)"
   ]
  },
  {
   "cell_type": "code",
   "execution_count": null,
   "metadata": {},
   "outputs": [],
   "source": [
    "tree_grid = DecisionTreeClassifier(**tree_params)\n",
    "tree_grid.fit(X_train, y_train)\n",
    "y_pred_tree_grid = tree_grid.predict(X_test)\n",
    "\n",
    "# checking accuracy\n",
    "print('Test Accuracy score: ', metrics.accuracy_score(y_test, y_pred_tree_grid))\n",
    "\n",
    "# checking F1\n",
    "print('Test F1 score: ', metrics.f1_score(y_test, y_pred_tree_grid))"
   ]
  },
  {
   "cell_type": "markdown",
   "metadata": {},
   "source": [
    "# Random forest grid"
   ]
  },
  {
   "cell_type": "code",
   "execution_count": null,
   "metadata": {},
   "outputs": [],
   "source": [
    "#SET PARAMATER GRID\n",
    "param_grid_forest = { \n",
    "    'n_estimators': [75,100,125],\n",
    "    'criterion': ['gini', 'entropy'],\n",
    "    'max_leaf_nodes': [ 18, 19, 21, 23],\n",
    "    'max_depth': [9, 10, 12],\n",
    "    'max_features': ['auto', 'log2']\n",
    "    \n",
    "}\n",
    "\n",
    "grid_search_forest = GridSearchCV(estimator = rfc, param_grid = param_grid_forest,cv = 5,scoring = 'accuracy')"
   ]
  },
  {
   "cell_type": "code",
   "execution_count": null,
   "metadata": {},
   "outputs": [],
   "source": [
    "\n",
    "grid_search_forest.fit(X_train,y_train)\n",
    "forest_params = grid_search_forest.best_params_\n",
    "print(forest_params)"
   ]
  },
  {
   "cell_type": "code",
   "execution_count": null,
   "metadata": {},
   "outputs": [],
   "source": [
    "forest_grid = RandomForestClassifier(**forest_params)\n",
    "forest_grid.fit(X_train, y_train)\n",
    "y_pred_forest_grid = forest_grid.predict(X_test)\n",
    "\n",
    "# checking accuracy\n",
    "print('Test Accuracy score: ', metrics.accuracy_score(y_test, y_pred_forest_grid))\n",
    "\n",
    "# checking F1\n",
    "print('Test F1 score: ', metrics.f1_score(y_test, y_pred_forest_grid))"
   ]
  },
  {
   "cell_type": "markdown",
   "metadata": {},
   "source": [
    "# Ensemble models"
   ]
  },
  {
   "cell_type": "code",
   "execution_count": null,
   "metadata": {},
   "outputs": [],
   "source": [
    "#ENSEMBLE MODEL WITHOUT WEIGHTS\n",
    "from sklearn.ensemble import VotingClassifier\n",
    "ensemble_model = VotingClassifier(estimators=[('lr', logreg_grid),('rf', forest_grid),\n",
    "                                              ('dt', tree_grid), ('kn',knn_grid)], voting='hard',n_jobs = -1 )\n",
    "\n",
    "ensemble_model.fit(X_train, y_train)\n",
    "\n",
    "ensemble_preds = ensemble_model.predict(X_test)\n",
    "\n",
    "# checking accuracy\n",
    "print('Test Accuracy score: ', metrics.accuracy_score(y_test, ensemble_preds))\n",
    "\n",
    "# checking F1\n",
    "print('Test F1 score: ', metrics.f1_score(y_test, ensemble_preds))"
   ]
  },
  {
   "cell_type": "code",
   "execution_count": null,
   "metadata": {},
   "outputs": [],
   "source": [
    "\n",
    "#ENSEMBLE MODEL WITH WEIGHTS\n",
    "ensemble_model2 = VotingClassifier(estimators=[('lr', logreg_grid), ('rf', forest_grid), ('dt', tree_grid), ('kn',knn_grid)],\n",
    "                  voting='soft',weights=[4, 2, 1,3])\n",
    "\n",
    "ensemble_model2.fit(X_train, y_train)\n",
    "\n",
    "ensemble_preds2 = ensemble_model2.predict(X_test)\n",
    "\n",
    "# checking accuracy\n",
    "print('Test Accuracy score: ', metrics.accuracy_score(y_test, ensemble_preds2))\n",
    "\n",
    "# checking F1\n",
    "print('Test F1 score: ', metrics.f1_score(y_test, ensemble_preds2))"
   ]
  },
  {
   "cell_type": "code",
   "execution_count": null,
   "metadata": {},
   "outputs": [],
   "source": [
    "\n",
    "# Import necessary modules\n",
    "from sklearn.metrics import roc_curve\n",
    "\n",
    "# Compute predicted probabilities: y_pred_prob\n",
    "y_log_g_prob = logreg_grid.predict_proba(X_test)[:,1]\n",
    "y_knn_g_prob = knn_grid.predict_proba(X_test)[:,1]\n",
    "y_tree_g_prob = tree_grid.predict_proba(X_test)[:,1]\n",
    "y_rfc_g_prob = forest_grid.predict_proba(X_test)[:,1]\n",
    "y_ens_prob = ensemble_model2.predict_proba(X_test)[:,1]\n",
    "\n",
    "# Generate ROC curve values: fpr, tpr, thresholds\n",
    "fpr_log_g, tpr_log_g, thresholds_log_g = roc_curve(y_test, y_log_g_prob)\n",
    "fpr_knn_g, tpr_knn_g, thresholds_knn_g = roc_curve(y_test, y_knn_g_prob)\n",
    "fpr_tree_g, tpr_tree_g, thresholds_tree_g = roc_curve(y_test, y_tree_g_prob)\n",
    "fpr_rfc_g, tpr_rfc_g, thresholds_rfc_g = roc_curve(y_test, y_rfc_g_prob)\n",
    "fpr_ens, tpr_ens, thresholds_ens = roc_curve(y_test, y_ens_prob)"
   ]
  },
  {
   "cell_type": "code",
   "execution_count": null,
   "metadata": {},
   "outputs": [],
   "source": [
    "# Plot ROC curve\n",
    "plt.plot([0, 1], [0, 1], 'k--')\n",
    "plt.plot(fpr_log_g, tpr_log_g,label = 'Logistic')\n",
    "plt.plot(fpr_knn_g, tpr_knn_g,label = 'KNN')\n",
    "plt.plot(fpr_tree_g, tpr_tree_g,label = 'Decision Tree')\n",
    "plt.plot(fpr_rfc_g, tpr_rfc_g,label = 'Random Forest')\n",
    "plt.plot(fpr_ens, tpr_ens,label = 'Ensemble')\n",
    "plt.xlabel('False Positive Rate')\n",
    "plt.ylabel('True Positive Rate')\n",
    "plt.legend()\n",
    "plt.title('ROC Curve with GridSearch')\n",
    "plt.show()"
   ]
  },
  {
   "cell_type": "code",
   "execution_count": null,
   "metadata": {},
   "outputs": [],
   "source": [
    "# Compute and print AUC score\n",
    "print(\"AUC Logistic: {}\".format(roc_auc_score(y_test, y_log_g_prob)))\n",
    "print(\"AUC KNN: {}\".format(roc_auc_score(y_test, y_knn_g_prob)))\n",
    "print(\"AUC Decision Tree: {}\".format(roc_auc_score(y_test, y_tree_g_prob)))\n",
    "print(\"AUC Random Forest: {}\".format(roc_auc_score(y_test, y_rfc_g_prob)))\n",
    "print(\"AUC Ensemble: {}\".format(roc_auc_score(y_test, y_ens_prob)))"
   ]
  },
  {
   "cell_type": "code",
   "execution_count": null,
   "metadata": {},
   "outputs": [],
   "source": [
    "print(confusion_matrix(y_test, ensemble_preds2))\n",
    "print(classification_report(y_test, ensemble_preds2))"
   ]
  },
  {
   "cell_type": "code",
   "execution_count": null,
   "metadata": {},
   "outputs": [],
   "source": [
    "cm = confusion_matrix(y_test, ensemble_preds2)\n",
    "classes = ['No Disease', 'Disease']"
   ]
  },
  {
   "cell_type": "code",
   "execution_count": null,
   "metadata": {},
   "outputs": [],
   "source": [
    "def plot_confusion_matrix(cm, classes,\n",
    "                          normalize=False,\n",
    "                          title='Confusion matrix',\n",
    "                          cmap=plt.cm.Blues):\n",
    "    \"\"\"\n",
    "    This function prints and plots the confusion matrix.\n",
    "    Normalization can be applied by setting `normalize=True`.\n",
    "    \"\"\"\n",
    "    if normalize:\n",
    "        cm = cm.astype('float') / cm.sum(axis=1)[:, np.newaxis]\n",
    "        print(\"Normalized confusion matrix\")\n",
    "    else:\n",
    "        print('Confusion Matrix, without normalization')\n",
    "\n",
    "    print(cm)\n",
    "\n",
    "    plt.imshow(cm, interpolation='nearest', cmap=cmap)\n",
    "    plt.title(title)\n",
    "    plt.colorbar()\n",
    "    tick_marks = np.arange(len(classes))\n",
    "    plt.xticks(tick_marks, classes, rotation=45)\n",
    "    plt.yticks(tick_marks, classes)\n",
    "\n",
    "    fmt = '.2f' if normalize else 'd'\n",
    "    thresh = cm.max() / 2.\n",
    "    for i, j in itertools.product(range(cm.shape[0]), range(cm.shape[1])):\n",
    "        plt.text(j, i, format(cm[i, j], fmt),\n",
    "                 horizontalalignment=\"center\",\n",
    "                 color=\"white\" if cm[i, j] > thresh else \"black\")\n",
    "\n",
    "    plt.tight_layout()\n",
    "    plt.ylabel('True label')\n",
    "    plt.xlabel('Predicted label')"
   ]
  },
  {
   "cell_type": "code",
   "execution_count": null,
   "metadata": {
    "scrolled": true
   },
   "outputs": [],
   "source": [
    "import itertools\n",
    "plot_confusion_matrix(cm, classes,\n",
    "                          normalize=False,\n",
    "                          title='Confusion matrix',\n",
    "                          cmap=plt.cm.Blues)"
   ]
  },
  {
   "cell_type": "code",
   "execution_count": null,
   "metadata": {
    "scrolled": true
   },
   "outputs": [],
   "source": [
    "abs(base-metrics.accuracy_score(y_test, ensemble_preds2))/base\n"
   ]
  },
  {
   "cell_type": "code",
   "execution_count": null,
   "metadata": {},
   "outputs": [],
   "source": []
  }
 ],
 "metadata": {
  "kernelspec": {
   "display_name": "Python 3",
   "language": "python",
   "name": "python3"
  },
  "language_info": {
   "codemirror_mode": {
    "name": "ipython",
    "version": 3
   },
   "file_extension": ".py",
   "mimetype": "text/x-python",
   "name": "python",
   "nbconvert_exporter": "python",
   "pygments_lexer": "ipython3",
   "version": "3.6.9"
  }
 },
 "nbformat": 4,
 "nbformat_minor": 2
}
